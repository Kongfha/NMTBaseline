{
  "nbformat": 4,
  "nbformat_minor": 0,
  "metadata": {
    "colab": {
      "name": "TrainingNMT.ipynb",
      "provenance": [],
      "authorship_tag": "ABX9TyM1NzsN3UNOznNkzv4hm+lD",
      "include_colab_link": true
    },
    "kernelspec": {
      "name": "python3",
      "display_name": "Python 3"
    },
    "language_info": {
      "name": "python"
    },
    "accelerator": "GPU"
  },
  "cells": [
    {
      "cell_type": "markdown",
      "metadata": {
        "id": "view-in-github",
        "colab_type": "text"
      },
      "source": [
        "<a href=\"https://colab.research.google.com/github/peerachetporkaew/NMTBaseline/blob/main/TrainingNMT.ipynb\" target=\"_parent\"><img src=\"https://colab.research.google.com/assets/colab-badge.svg\" alt=\"Open In Colab\"/></a>"
      ]
    },
    {
      "cell_type": "code",
      "execution_count": 16,
      "metadata": {
        "colab": {
          "base_uri": "https://localhost:8080/"
        },
        "id": "FXD1I_gLO9sP",
        "outputId": "41f9db50-8ac9-4da6-a55c-edfb819e3dc8"
      },
      "outputs": [
        {
          "output_type": "stream",
          "name": "stdout",
          "text": [
            "Cloning into 'NMTBaseline'...\n",
            "remote: Enumerating objects: 942, done.\u001b[K\n",
            "remote: Counting objects: 100% (942/942), done.\u001b[K\n",
            "remote: Compressing objects: 100% (758/758), done.\u001b[K\n",
            "remote: Total 942 (delta 162), reused 920 (delta 146), pack-reused 0\u001b[K\n",
            "Receiving objects: 100% (942/942), 21.29 MiB | 18.94 MiB/s, done.\n",
            "Resolving deltas: 100% (162/162), done.\n"
          ]
        }
      ],
      "source": [
        "!git clone https://github.com/peerachetporkaew/NMTBaseline.git"
      ]
    },
    {
      "cell_type": "code",
      "source": [
        "%cd NMTBaseline/fairseq"
      ],
      "metadata": {
        "colab": {
          "base_uri": "https://localhost:8080/"
        },
        "id": "lXlZUbRVPQH0",
        "outputId": "20e69403-fcae-4c42-d56f-c11eb5768bc7"
      },
      "execution_count": 17,
      "outputs": [
        {
          "output_type": "stream",
          "name": "stdout",
          "text": [
            "/content/NMTBaseline/NMTBaseline/fairseq/NMTBaseline/fairseq\n"
          ]
        }
      ]
    },
    {
      "cell_type": "code",
      "source": [
        "!pip install fairseq"
      ],
      "metadata": {
        "colab": {
          "base_uri": "https://localhost:8080/",
          "height": 557
        },
        "id": "vig72mb-PXqi",
        "outputId": "e1b6e906-2aaf-4d89-b75e-6e923b2dfdd6"
      },
      "execution_count": 29,
      "outputs": [
        {
          "output_type": "stream",
          "name": "stdout",
          "text": [
            "Collecting fairseq\n",
            "  Downloading fairseq-0.10.2-cp37-cp37m-manylinux1_x86_64.whl (1.7 MB)\n",
            "\u001b[?25l\r\u001b[K     |▏                               | 10 kB 19.8 MB/s eta 0:00:01\r\u001b[K     |▍                               | 20 kB 25.2 MB/s eta 0:00:01\r\u001b[K     |▋                               | 30 kB 23.7 MB/s eta 0:00:01\r\u001b[K     |▊                               | 40 kB 18.6 MB/s eta 0:00:01\r\u001b[K     |█                               | 51 kB 15.0 MB/s eta 0:00:01\r\u001b[K     |█▏                              | 61 kB 13.8 MB/s eta 0:00:01\r\u001b[K     |█▍                              | 71 kB 12.3 MB/s eta 0:00:01\r\u001b[K     |█▌                              | 81 kB 13.0 MB/s eta 0:00:01\r\u001b[K     |█▊                              | 92 kB 14.1 MB/s eta 0:00:01\r\u001b[K     |██                              | 102 kB 12.3 MB/s eta 0:00:01\r\u001b[K     |██▏                             | 112 kB 12.3 MB/s eta 0:00:01\r\u001b[K     |██▎                             | 122 kB 12.3 MB/s eta 0:00:01\r\u001b[K     |██▌                             | 133 kB 12.3 MB/s eta 0:00:01\r\u001b[K     |██▊                             | 143 kB 12.3 MB/s eta 0:00:01\r\u001b[K     |███                             | 153 kB 12.3 MB/s eta 0:00:01\r\u001b[K     |███                             | 163 kB 12.3 MB/s eta 0:00:01\r\u001b[K     |███▎                            | 174 kB 12.3 MB/s eta 0:00:01\r\u001b[K     |███▌                            | 184 kB 12.3 MB/s eta 0:00:01\r\u001b[K     |███▊                            | 194 kB 12.3 MB/s eta 0:00:01\r\u001b[K     |███▉                            | 204 kB 12.3 MB/s eta 0:00:01\r\u001b[K     |████                            | 215 kB 12.3 MB/s eta 0:00:01\r\u001b[K     |████▎                           | 225 kB 12.3 MB/s eta 0:00:01\r\u001b[K     |████▌                           | 235 kB 12.3 MB/s eta 0:00:01\r\u001b[K     |████▋                           | 245 kB 12.3 MB/s eta 0:00:01\r\u001b[K     |████▉                           | 256 kB 12.3 MB/s eta 0:00:01\r\u001b[K     |█████                           | 266 kB 12.3 MB/s eta 0:00:01\r\u001b[K     |█████▎                          | 276 kB 12.3 MB/s eta 0:00:01\r\u001b[K     |█████▍                          | 286 kB 12.3 MB/s eta 0:00:01\r\u001b[K     |█████▋                          | 296 kB 12.3 MB/s eta 0:00:01\r\u001b[K     |█████▉                          | 307 kB 12.3 MB/s eta 0:00:01\r\u001b[K     |██████                          | 317 kB 12.3 MB/s eta 0:00:01\r\u001b[K     |██████▏                         | 327 kB 12.3 MB/s eta 0:00:01\r\u001b[K     |██████▍                         | 337 kB 12.3 MB/s eta 0:00:01\r\u001b[K     |██████▋                         | 348 kB 12.3 MB/s eta 0:00:01\r\u001b[K     |██████▉                         | 358 kB 12.3 MB/s eta 0:00:01\r\u001b[K     |███████                         | 368 kB 12.3 MB/s eta 0:00:01\r\u001b[K     |███████▏                        | 378 kB 12.3 MB/s eta 0:00:01\r\u001b[K     |███████▍                        | 389 kB 12.3 MB/s eta 0:00:01\r\u001b[K     |███████▋                        | 399 kB 12.3 MB/s eta 0:00:01\r\u001b[K     |███████▊                        | 409 kB 12.3 MB/s eta 0:00:01\r\u001b[K     |████████                        | 419 kB 12.3 MB/s eta 0:00:01\r\u001b[K     |████████▏                       | 430 kB 12.3 MB/s eta 0:00:01\r\u001b[K     |████████▍                       | 440 kB 12.3 MB/s eta 0:00:01\r\u001b[K     |████████▌                       | 450 kB 12.3 MB/s eta 0:00:01\r\u001b[K     |████████▊                       | 460 kB 12.3 MB/s eta 0:00:01\r\u001b[K     |█████████                       | 471 kB 12.3 MB/s eta 0:00:01\r\u001b[K     |█████████▏                      | 481 kB 12.3 MB/s eta 0:00:01\r\u001b[K     |█████████▎                      | 491 kB 12.3 MB/s eta 0:00:01\r\u001b[K     |█████████▌                      | 501 kB 12.3 MB/s eta 0:00:01\r\u001b[K     |█████████▊                      | 512 kB 12.3 MB/s eta 0:00:01\r\u001b[K     |█████████▉                      | 522 kB 12.3 MB/s eta 0:00:01\r\u001b[K     |██████████                      | 532 kB 12.3 MB/s eta 0:00:01\r\u001b[K     |██████████▎                     | 542 kB 12.3 MB/s eta 0:00:01\r\u001b[K     |██████████▌                     | 552 kB 12.3 MB/s eta 0:00:01\r\u001b[K     |██████████▋                     | 563 kB 12.3 MB/s eta 0:00:01\r\u001b[K     |██████████▉                     | 573 kB 12.3 MB/s eta 0:00:01\r\u001b[K     |███████████                     | 583 kB 12.3 MB/s eta 0:00:01\r\u001b[K     |███████████▎                    | 593 kB 12.3 MB/s eta 0:00:01\r\u001b[K     |███████████▍                    | 604 kB 12.3 MB/s eta 0:00:01\r\u001b[K     |███████████▋                    | 614 kB 12.3 MB/s eta 0:00:01\r\u001b[K     |███████████▉                    | 624 kB 12.3 MB/s eta 0:00:01\r\u001b[K     |████████████                    | 634 kB 12.3 MB/s eta 0:00:01\r\u001b[K     |████████████▏                   | 645 kB 12.3 MB/s eta 0:00:01\r\u001b[K     |████████████▍                   | 655 kB 12.3 MB/s eta 0:00:01\r\u001b[K     |████████████▋                   | 665 kB 12.3 MB/s eta 0:00:01\r\u001b[K     |████████████▉                   | 675 kB 12.3 MB/s eta 0:00:01\r\u001b[K     |█████████████                   | 686 kB 12.3 MB/s eta 0:00:01\r\u001b[K     |█████████████▏                  | 696 kB 12.3 MB/s eta 0:00:01\r\u001b[K     |█████████████▍                  | 706 kB 12.3 MB/s eta 0:00:01\r\u001b[K     |█████████████▋                  | 716 kB 12.3 MB/s eta 0:00:01\r\u001b[K     |█████████████▊                  | 727 kB 12.3 MB/s eta 0:00:01\r\u001b[K     |██████████████                  | 737 kB 12.3 MB/s eta 0:00:01\r\u001b[K     |██████████████▏                 | 747 kB 12.3 MB/s eta 0:00:01\r\u001b[K     |██████████████▍                 | 757 kB 12.3 MB/s eta 0:00:01\r\u001b[K     |██████████████▌                 | 768 kB 12.3 MB/s eta 0:00:01\r\u001b[K     |██████████████▊                 | 778 kB 12.3 MB/s eta 0:00:01\r\u001b[K     |███████████████                 | 788 kB 12.3 MB/s eta 0:00:01\r\u001b[K     |███████████████▏                | 798 kB 12.3 MB/s eta 0:00:01\r\u001b[K     |███████████████▎                | 808 kB 12.3 MB/s eta 0:00:01\r\u001b[K     |███████████████▌                | 819 kB 12.3 MB/s eta 0:00:01\r\u001b[K     |███████████████▊                | 829 kB 12.3 MB/s eta 0:00:01\r\u001b[K     |████████████████                | 839 kB 12.3 MB/s eta 0:00:01\r\u001b[K     |████████████████                | 849 kB 12.3 MB/s eta 0:00:01\r\u001b[K     |████████████████▎               | 860 kB 12.3 MB/s eta 0:00:01\r\u001b[K     |████████████████▌               | 870 kB 12.3 MB/s eta 0:00:01\r\u001b[K     |████████████████▊               | 880 kB 12.3 MB/s eta 0:00:01\r\u001b[K     |████████████████▉               | 890 kB 12.3 MB/s eta 0:00:01\r\u001b[K     |█████████████████               | 901 kB 12.3 MB/s eta 0:00:01\r\u001b[K     |█████████████████▎              | 911 kB 12.3 MB/s eta 0:00:01\r\u001b[K     |█████████████████▌              | 921 kB 12.3 MB/s eta 0:00:01\r\u001b[K     |█████████████████▋              | 931 kB 12.3 MB/s eta 0:00:01\r\u001b[K     |█████████████████▉              | 942 kB 12.3 MB/s eta 0:00:01\r\u001b[K     |██████████████████              | 952 kB 12.3 MB/s eta 0:00:01\r\u001b[K     |██████████████████▎             | 962 kB 12.3 MB/s eta 0:00:01\r\u001b[K     |██████████████████▍             | 972 kB 12.3 MB/s eta 0:00:01\r\u001b[K     |██████████████████▋             | 983 kB 12.3 MB/s eta 0:00:01\r\u001b[K     |██████████████████▉             | 993 kB 12.3 MB/s eta 0:00:01\r\u001b[K     |███████████████████             | 1.0 MB 12.3 MB/s eta 0:00:01\r\u001b[K     |███████████████████▏            | 1.0 MB 12.3 MB/s eta 0:00:01\r\u001b[K     |███████████████████▍            | 1.0 MB 12.3 MB/s eta 0:00:01\r\u001b[K     |███████████████████▋            | 1.0 MB 12.3 MB/s eta 0:00:01\r\u001b[K     |███████████████████▊            | 1.0 MB 12.3 MB/s eta 0:00:01\r\u001b[K     |████████████████████            | 1.1 MB 12.3 MB/s eta 0:00:01\r\u001b[K     |████████████████████▏           | 1.1 MB 12.3 MB/s eta 0:00:01\r\u001b[K     |████████████████████▍           | 1.1 MB 12.3 MB/s eta 0:00:01\r\u001b[K     |████████████████████▌           | 1.1 MB 12.3 MB/s eta 0:00:01\r\u001b[K     |████████████████████▊           | 1.1 MB 12.3 MB/s eta 0:00:01\r\u001b[K     |█████████████████████           | 1.1 MB 12.3 MB/s eta 0:00:01\r\u001b[K     |█████████████████████▏          | 1.1 MB 12.3 MB/s eta 0:00:01\r\u001b[K     |█████████████████████▎          | 1.1 MB 12.3 MB/s eta 0:00:01\r\u001b[K     |█████████████████████▌          | 1.1 MB 12.3 MB/s eta 0:00:01\r\u001b[K     |█████████████████████▊          | 1.1 MB 12.3 MB/s eta 0:00:01\r\u001b[K     |██████████████████████          | 1.2 MB 12.3 MB/s eta 0:00:01\r\u001b[K     |██████████████████████          | 1.2 MB 12.3 MB/s eta 0:00:01\r\u001b[K     |██████████████████████▎         | 1.2 MB 12.3 MB/s eta 0:00:01\r\u001b[K     |██████████████████████▌         | 1.2 MB 12.3 MB/s eta 0:00:01\r\u001b[K     |██████████████████████▊         | 1.2 MB 12.3 MB/s eta 0:00:01\r\u001b[K     |██████████████████████▉         | 1.2 MB 12.3 MB/s eta 0:00:01\r\u001b[K     |███████████████████████         | 1.2 MB 12.3 MB/s eta 0:00:01\r\u001b[K     |███████████████████████▎        | 1.2 MB 12.3 MB/s eta 0:00:01\r\u001b[K     |███████████████████████▌        | 1.2 MB 12.3 MB/s eta 0:00:01\r\u001b[K     |███████████████████████▋        | 1.2 MB 12.3 MB/s eta 0:00:01\r\u001b[K     |███████████████████████▉        | 1.3 MB 12.3 MB/s eta 0:00:01\r\u001b[K     |████████████████████████        | 1.3 MB 12.3 MB/s eta 0:00:01\r\u001b[K     |████████████████████████▎       | 1.3 MB 12.3 MB/s eta 0:00:01\r\u001b[K     |████████████████████████▍       | 1.3 MB 12.3 MB/s eta 0:00:01\r\u001b[K     |████████████████████████▋       | 1.3 MB 12.3 MB/s eta 0:00:01\r\u001b[K     |████████████████████████▉       | 1.3 MB 12.3 MB/s eta 0:00:01\r\u001b[K     |█████████████████████████       | 1.3 MB 12.3 MB/s eta 0:00:01\r\u001b[K     |█████████████████████████▏      | 1.3 MB 12.3 MB/s eta 0:00:01\r\u001b[K     |█████████████████████████▍      | 1.3 MB 12.3 MB/s eta 0:00:01\r\u001b[K     |█████████████████████████▋      | 1.4 MB 12.3 MB/s eta 0:00:01\r\u001b[K     |█████████████████████████▉      | 1.4 MB 12.3 MB/s eta 0:00:01\r\u001b[K     |██████████████████████████      | 1.4 MB 12.3 MB/s eta 0:00:01\r\u001b[K     |██████████████████████████▏     | 1.4 MB 12.3 MB/s eta 0:00:01\r\u001b[K     |██████████████████████████▍     | 1.4 MB 12.3 MB/s eta 0:00:01\r\u001b[K     |██████████████████████████▋     | 1.4 MB 12.3 MB/s eta 0:00:01\r\u001b[K     |██████████████████████████▊     | 1.4 MB 12.3 MB/s eta 0:00:01\r\u001b[K     |███████████████████████████     | 1.4 MB 12.3 MB/s eta 0:00:01\r\u001b[K     |███████████████████████████▏    | 1.4 MB 12.3 MB/s eta 0:00:01\r\u001b[K     |███████████████████████████▍    | 1.4 MB 12.3 MB/s eta 0:00:01\r\u001b[K     |███████████████████████████▌    | 1.5 MB 12.3 MB/s eta 0:00:01\r\u001b[K     |███████████████████████████▊    | 1.5 MB 12.3 MB/s eta 0:00:01\r\u001b[K     |████████████████████████████    | 1.5 MB 12.3 MB/s eta 0:00:01\r\u001b[K     |████████████████████████████▏   | 1.5 MB 12.3 MB/s eta 0:00:01\r\u001b[K     |████████████████████████████▎   | 1.5 MB 12.3 MB/s eta 0:00:01\r\u001b[K     |████████████████████████████▌   | 1.5 MB 12.3 MB/s eta 0:00:01\r\u001b[K     |████████████████████████████▊   | 1.5 MB 12.3 MB/s eta 0:00:01\r\u001b[K     |█████████████████████████████   | 1.5 MB 12.3 MB/s eta 0:00:01\r\u001b[K     |█████████████████████████████   | 1.5 MB 12.3 MB/s eta 0:00:01\r\u001b[K     |█████████████████████████████▎  | 1.5 MB 12.3 MB/s eta 0:00:01\r\u001b[K     |█████████████████████████████▌  | 1.6 MB 12.3 MB/s eta 0:00:01\r\u001b[K     |█████████████████████████████▋  | 1.6 MB 12.3 MB/s eta 0:00:01\r\u001b[K     |█████████████████████████████▉  | 1.6 MB 12.3 MB/s eta 0:00:01\r\u001b[K     |██████████████████████████████  | 1.6 MB 12.3 MB/s eta 0:00:01\r\u001b[K     |██████████████████████████████▎ | 1.6 MB 12.3 MB/s eta 0:00:01\r\u001b[K     |██████████████████████████████▍ | 1.6 MB 12.3 MB/s eta 0:00:01\r\u001b[K     |██████████████████████████████▋ | 1.6 MB 12.3 MB/s eta 0:00:01\r\u001b[K     |██████████████████████████████▉ | 1.6 MB 12.3 MB/s eta 0:00:01\r\u001b[K     |███████████████████████████████ | 1.6 MB 12.3 MB/s eta 0:00:01\r\u001b[K     |███████████████████████████████▏| 1.6 MB 12.3 MB/s eta 0:00:01\r\u001b[K     |███████████████████████████████▍| 1.7 MB 12.3 MB/s eta 0:00:01\r\u001b[K     |███████████████████████████████▋| 1.7 MB 12.3 MB/s eta 0:00:01\r\u001b[K     |███████████████████████████████▉| 1.7 MB 12.3 MB/s eta 0:00:01\r\u001b[K     |████████████████████████████████| 1.7 MB 12.3 MB/s eta 0:00:01\r\u001b[K     |████████████████████████████████| 1.7 MB 12.3 MB/s \n",
            "\u001b[?25hRequirement already satisfied: regex in /usr/local/lib/python3.7/dist-packages (from fairseq) (2019.12.20)\n",
            "Collecting dataclasses\n",
            "  Downloading dataclasses-0.6-py3-none-any.whl (14 kB)\n",
            "Requirement already satisfied: numpy in /usr/local/lib/python3.7/dist-packages (from fairseq) (1.21.5)\n",
            "Requirement already satisfied: cffi in /usr/local/lib/python3.7/dist-packages (from fairseq) (1.15.0)\n",
            "Requirement already satisfied: hydra-core in /usr/local/lib/python3.7/dist-packages (from fairseq) (1.0.7)\n",
            "Requirement already satisfied: sacrebleu>=1.4.12 in /usr/local/lib/python3.7/dist-packages (from fairseq) (2.0.0)\n",
            "Requirement already satisfied: cython in /usr/local/lib/python3.7/dist-packages (from fairseq) (0.29.27)\n",
            "Requirement already satisfied: tqdm in /usr/local/lib/python3.7/dist-packages (from fairseq) (4.62.3)\n",
            "Requirement already satisfied: torch in /usr/local/lib/python3.7/dist-packages (from fairseq) (1.10.0+cu111)\n",
            "Requirement already satisfied: portalocker in /usr/local/lib/python3.7/dist-packages (from sacrebleu>=1.4.12->fairseq) (2.3.2)\n",
            "Requirement already satisfied: tabulate>=0.8.9 in /usr/local/lib/python3.7/dist-packages (from sacrebleu>=1.4.12->fairseq) (0.8.9)\n",
            "Requirement already satisfied: colorama in /usr/local/lib/python3.7/dist-packages (from sacrebleu>=1.4.12->fairseq) (0.4.4)\n",
            "Requirement already satisfied: pycparser in /usr/local/lib/python3.7/dist-packages (from cffi->fairseq) (2.21)\n",
            "Requirement already satisfied: importlib-resources in /usr/local/lib/python3.7/dist-packages (from hydra-core->fairseq) (5.4.0)\n",
            "Requirement already satisfied: omegaconf<2.1,>=2.0.5 in /usr/local/lib/python3.7/dist-packages (from hydra-core->fairseq) (2.0.6)\n",
            "Requirement already satisfied: antlr4-python3-runtime==4.8 in /usr/local/lib/python3.7/dist-packages (from hydra-core->fairseq) (4.8)\n",
            "Requirement already satisfied: PyYAML>=5.1.* in /usr/local/lib/python3.7/dist-packages (from omegaconf<2.1,>=2.0.5->hydra-core->fairseq) (6.0)\n",
            "Requirement already satisfied: typing-extensions in /usr/local/lib/python3.7/dist-packages (from omegaconf<2.1,>=2.0.5->hydra-core->fairseq) (3.10.0.2)\n",
            "Requirement already satisfied: zipp>=3.1.0 in /usr/local/lib/python3.7/dist-packages (from importlib-resources->hydra-core->fairseq) (3.7.0)\n",
            "Installing collected packages: dataclasses, fairseq\n",
            "Successfully installed dataclasses-0.6 fairseq-0.10.2\n"
          ]
        },
        {
          "output_type": "display_data",
          "data": {
            "application/vnd.colab-display-data+json": {
              "pip_warning": {
                "packages": [
                  "dataclasses",
                  "fairseq"
                ]
              }
            }
          },
          "metadata": {}
        }
      ]
    },
    {
      "cell_type": "code",
      "source": [
        "% cd .."
      ],
      "metadata": {
        "colab": {
          "base_uri": "https://localhost:8080/"
        },
        "id": "sYNYHE4lPcoW",
        "outputId": "62504408-897f-470a-f6d3-f5dc8d430136"
      },
      "execution_count": 19,
      "outputs": [
        {
          "output_type": "stream",
          "name": "stdout",
          "text": [
            "/content/NMTBaseline/NMTBaseline/fairseq/NMTBaseline\n"
          ]
        }
      ]
    },
    {
      "cell_type": "code",
      "source": [
        "!pip install subword-nmt"
      ],
      "metadata": {
        "colab": {
          "base_uri": "https://localhost:8080/"
        },
        "id": "YtQuvEmJQJ1e",
        "outputId": "2c0acdaa-ebb7-4314-b9b4-0055eb332503"
      },
      "execution_count": 20,
      "outputs": [
        {
          "output_type": "stream",
          "name": "stdout",
          "text": [
            "Requirement already satisfied: subword-nmt in /usr/local/lib/python3.7/dist-packages (0.3.8)\n",
            "Requirement already satisfied: tqdm in /usr/local/lib/python3.7/dist-packages (from subword-nmt) (4.62.3)\n",
            "Requirement already satisfied: mock in /usr/local/lib/python3.7/dist-packages (from subword-nmt) (4.0.3)\n"
          ]
        }
      ]
    },
    {
      "cell_type": "code",
      "source": [
        "!mkdir output"
      ],
      "metadata": {
        "id": "QSEJFVfHQFbi"
      },
      "execution_count": 21,
      "outputs": []
    },
    {
      "cell_type": "code",
      "source": [
        "!./scripts/02_learn_subword/learn_bpe.sh"
      ],
      "metadata": {
        "colab": {
          "base_uri": "https://localhost:8080/"
        },
        "id": "4hrtmovBP4lI",
        "outputId": "2843b467-1121-44a8-9e31-d3c4f6829d4a"
      },
      "execution_count": 22,
      "outputs": [
        {
          "output_type": "stream",
          "name": "stdout",
          "text": [
            "100% 32000/32000 [00:49<00:00, 643.89it/s]\n",
            "100% 32000/32000 [01:27<00:00, 364.80it/s]\n"
          ]
        }
      ]
    },
    {
      "cell_type": "code",
      "source": [
        "%cd NMTBaseline"
      ],
      "metadata": {
        "colab": {
          "base_uri": "https://localhost:8080/"
        },
        "id": "bSCkZ4WbQBK9",
        "outputId": "420177cc-14f4-4d71-9133-462fea3908e6"
      },
      "execution_count": 3,
      "outputs": [
        {
          "output_type": "stream",
          "name": "stdout",
          "text": [
            "/content/NMTBaseline\n"
          ]
        }
      ]
    },
    {
      "cell_type": "code",
      "source": [
        "!./scripts/03_fairseq/preprocess.sh"
      ],
      "metadata": {
        "colab": {
          "base_uri": "https://localhost:8080/"
        },
        "id": "u3OBsEjLRcr3",
        "outputId": "96b77b61-4540-46af-e0b6-a759417438ab"
      },
      "execution_count": 4,
      "outputs": [
        {
          "output_type": "stream",
          "name": "stdout",
          "text": [
            "2022-02-16 04:17:15 | INFO | fairseq_cli.preprocess | Namespace(align_suffix=None, alignfile=None, all_gather_list_size=16384, bf16=False, bpe=None, checkpoint_shard_count=1, checkpoint_suffix='', cpu=False, criterion='cross_entropy', dataset_impl='mmap', destdir='output/data-bin', empty_cache_freq=0, fp16=False, fp16_init_scale=128, fp16_no_flatten_grads=False, fp16_scale_tolerance=0.0, fp16_scale_window=None, joined_dictionary=False, log_format=None, log_interval=100, lr_scheduler='fixed', memory_efficient_bf16=False, memory_efficient_fp16=False, min_loss_scale=0.0001, model_parallel_size=1, no_progress_bar=False, nwordssrc=-1, nwordstgt=-1, only_source=False, optimizer=None, padding_factor=8, profile=False, quantization_config_path=None, scoring='bleu', seed=1, source_lang='zh', srcdict=None, target_lang='th', task='translation', tensorboard_logdir=None, testpref='output/test.bpe', tgtdict=None, threshold_loss_scale=None, thresholdsrc=0, thresholdtgt=0, tokenizer=None, tpu=False, trainpref='output/train.bpe', user_dir=None, validpref='output/valid.bpe', workers=4)\n",
            "2022-02-16 04:18:29 | INFO | fairseq_cli.preprocess | [zh] Dictionary: 40968 types\n",
            "2022-02-16 04:19:20 | INFO | fairseq_cli.preprocess | [zh] output/train.bpe.zh: 440000 sents, 4275476 tokens, 0.0% replaced by <unk>\n",
            "2022-02-16 04:19:20 | INFO | fairseq_cli.preprocess | [zh] Dictionary: 40968 types\n",
            "2022-02-16 04:19:21 | INFO | fairseq_cli.preprocess | [zh] output/valid.bpe.zh: 2000 sents, 45602 tokens, 6.52% replaced by <unk>\n",
            "2022-02-16 04:19:21 | INFO | fairseq_cli.preprocess | [zh] Dictionary: 40968 types\n",
            "2022-02-16 04:19:21 | INFO | fairseq_cli.preprocess | [zh] output/test.bpe.zh: 4000 sents, 91403 tokens, 6.46% replaced by <unk>\n",
            "2022-02-16 04:19:21 | INFO | fairseq_cli.preprocess | [th] Dictionary: 29400 types\n",
            "2022-02-16 04:20:10 | INFO | fairseq_cli.preprocess | [th] output/train.bpe.th: 440000 sents, 4329401 tokens, 0.0% replaced by <unk>\n",
            "2022-02-16 04:20:10 | INFO | fairseq_cli.preprocess | [th] Dictionary: 29400 types\n",
            "2022-02-16 04:20:11 | INFO | fairseq_cli.preprocess | [th] output/valid.bpe.th: 2000 sents, 46488 tokens, 0.0366% replaced by <unk>\n",
            "2022-02-16 04:20:11 | INFO | fairseq_cli.preprocess | [th] Dictionary: 29400 types\n",
            "2022-02-16 04:20:12 | INFO | fairseq_cli.preprocess | [th] output/test.bpe.th: 4000 sents, 92653 tokens, 0.0313% replaced by <unk>\n",
            "2022-02-16 04:20:12 | INFO | fairseq_cli.preprocess | Wrote preprocessed data to output/data-bin\n"
          ]
        }
      ]
    },
    {
      "cell_type": "code",
      "source": [
        "!./scripts/03_fairseq/train.sh"
      ],
      "metadata": {
        "colab": {
          "base_uri": "https://localhost:8080/"
        },
        "id": "PZ5Cbzv_vaEa",
        "outputId": "cf5c7672-177e-4824-fca2-f050a9334fc9"
      },
      "execution_count": null,
      "outputs": [
        {
          "output_type": "stream",
          "name": "stdout",
          "text": [
            "2022-02-16 04:20:42 | INFO | fairseq_cli.train | {'_name': None, 'common': {'_name': None, 'no_progress_bar': False, 'log_interval': 100, 'log_format': None, 'tensorboard_logdir': None, 'wandb_project': None, 'azureml_logging': False, 'seed': 1, 'cpu': False, 'tpu': False, 'bf16': False, 'memory_efficient_bf16': False, 'fp16': True, 'memory_efficient_fp16': False, 'fp16_no_flatten_grads': False, 'fp16_init_scale': 128, 'fp16_scale_window': None, 'fp16_scale_tolerance': 0.0, 'min_loss_scale': 0.0001, 'threshold_loss_scale': None, 'user_dir': None, 'empty_cache_freq': 0, 'all_gather_list_size': 16384, 'model_parallel_size': 1, 'quantization_config_path': None, 'profile': False, 'reset_logging': False, 'suppress_crashes': False, 'use_plasma_view': False, 'plasma_path': '/tmp/plasma'}, 'common_eval': {'_name': None, 'path': None, 'post_process': None, 'quiet': False, 'model_overrides': '{}', 'results_path': None}, 'distributed_training': {'_name': None, 'distributed_world_size': 1, 'distributed_rank': 0, 'distributed_backend': 'nccl', 'distributed_init_method': None, 'distributed_port': -1, 'device_id': 0, 'distributed_no_spawn': False, 'ddp_backend': 'no_c10d', 'bucket_cap_mb': 25, 'fix_batches_to_gpus': False, 'find_unused_parameters': False, 'fast_stat_sync': False, 'heartbeat_timeout': -1, 'broadcast_buffers': False, 'slowmo_momentum': None, 'slowmo_algorithm': 'LocalSGD', 'localsgd_frequency': 3, 'nprocs_per_node': 1, 'pipeline_model_parallel': False, 'pipeline_balance': None, 'pipeline_devices': None, 'pipeline_chunks': 0, 'pipeline_encoder_balance': None, 'pipeline_encoder_devices': None, 'pipeline_decoder_balance': None, 'pipeline_decoder_devices': None, 'pipeline_checkpoint': 'never', 'zero_sharding': 'none', 'fp16': True, 'memory_efficient_fp16': False, 'tpu': False, 'no_reshard_after_forward': False, 'fp32_reduce_scatter': False, 'cpu_offload': False, 'distributed_num_procs': 1}, 'dataset': {'_name': None, 'num_workers': 1, 'skip_invalid_size_inputs_valid_test': False, 'max_tokens': 4000, 'batch_size': None, 'required_batch_size_multiple': 8, 'required_seq_len_multiple': 1, 'dataset_impl': None, 'data_buffer_size': 10, 'train_subset': 'train', 'valid_subset': 'valid', 'validate_interval': 1, 'validate_interval_updates': 0, 'validate_after_updates': 0, 'fixed_validation_seed': None, 'disable_validation': False, 'max_tokens_valid': 4000, 'batch_size_valid': None, 'max_valid_steps': None, 'curriculum': 0, 'gen_subset': 'test', 'num_shards': 1, 'shard_id': 0}, 'optimization': {'_name': None, 'max_epoch': 60, 'max_update': 100000, 'stop_time_hours': 0.0, 'clip_norm': 0.0, 'sentence_avg': False, 'update_freq': [4], 'lr': [0.0005], 'stop_min_lr': -1.0, 'use_bmuf': False}, 'checkpoint': {'_name': None, 'save_dir': 'output/checkpoints', 'restore_file': 'checkpoint_last.pt', 'finetune_from_model': None, 'reset_dataloader': False, 'reset_lr_scheduler': False, 'reset_meters': False, 'reset_optimizer': False, 'optimizer_overrides': '{}', 'save_interval': 1, 'save_interval_updates': 500, 'keep_interval_updates': 5, 'keep_last_epochs': 5, 'keep_best_checkpoints': -1, 'no_save': False, 'no_epoch_checkpoints': False, 'no_last_checkpoints': False, 'no_save_optimizer_state': False, 'best_checkpoint_metric': 'loss', 'maximize_best_checkpoint_metric': False, 'patience': -1, 'checkpoint_suffix': '', 'checkpoint_shard_count': 1, 'load_checkpoint_on_all_dp_ranks': False, 'write_checkpoints_asynchronously': False, 'model_parallel_size': 1}, 'bmuf': {'_name': None, 'block_lr': 1.0, 'block_momentum': 0.875, 'global_sync_iter': 50, 'warmup_iterations': 500, 'use_nbm': False, 'average_sync': False, 'distributed_world_size': 1}, 'generation': {'_name': None, 'beam': 5, 'nbest': 1, 'max_len_a': 0.0, 'max_len_b': 200, 'min_len': 1, 'match_source_len': False, 'unnormalized': False, 'no_early_stop': False, 'no_beamable_mm': False, 'lenpen': 1.0, 'unkpen': 0.0, 'replace_unk': None, 'sacrebleu': False, 'score_reference': False, 'prefix_size': 0, 'no_repeat_ngram_size': 0, 'sampling': False, 'sampling_topk': -1, 'sampling_topp': -1.0, 'constraints': None, 'temperature': 1.0, 'diverse_beam_groups': -1, 'diverse_beam_strength': 0.5, 'diversity_rate': -1.0, 'print_alignment': None, 'print_step': False, 'lm_path': None, 'lm_weight': 0.0, 'iter_decode_eos_penalty': 0.0, 'iter_decode_max_iter': 10, 'iter_decode_force_max_iter': False, 'iter_decode_with_beam': 1, 'iter_decode_with_external_reranker': False, 'retain_iter_history': False, 'retain_dropout': False, 'retain_dropout_modules': None, 'decoding_format': None, 'no_seed_provided': False}, 'eval_lm': {'_name': None, 'output_word_probs': False, 'output_word_stats': False, 'context_window': 0, 'softmax_batch': 9223372036854775807}, 'interactive': {'_name': None, 'buffer_size': 0, 'input': '-'}, 'model': Namespace(_name='transformer', activation_dropout=0.0, activation_fn='relu', adam_betas='(0.9, 0.98)', adam_eps=1e-08, adaptive_input=False, adaptive_softmax_cutoff=None, adaptive_softmax_dropout=0, all_gather_list_size=16384, arch='transformer', attention_dropout=0.0, azureml_logging=False, batch_size=None, batch_size_valid=None, best_checkpoint_metric='loss', bf16=False, bpe=None, broadcast_buffers=False, bucket_cap_mb=25, checkpoint_activations=False, checkpoint_shard_count=1, checkpoint_suffix='', clip_norm=0.0, cpu=False, cpu_offload=False, criterion='label_smoothed_cross_entropy', cross_self_attention=False, curriculum=0, data='output/data-bin', data_buffer_size=10, dataset_impl=None, ddp_backend='no_c10d', decoder_attention_heads=8, decoder_embed_dim=512, decoder_embed_path=None, decoder_ffn_embed_dim=2048, decoder_input_dim=512, decoder_layerdrop=0, decoder_layers=6, decoder_layers_to_keep=None, decoder_learned_pos=False, decoder_normalize_before=False, decoder_output_dim=512, device_id=0, disable_validation=False, distributed_backend='nccl', distributed_init_method=None, distributed_no_spawn=False, distributed_port=-1, distributed_rank=0, distributed_world_size=1, dropout=0.1, empty_cache_freq=0, encoder_attention_heads=8, encoder_embed_dim=512, encoder_embed_path=None, encoder_ffn_embed_dim=2048, encoder_layerdrop=0, encoder_layers=6, encoder_layers_to_keep=None, encoder_learned_pos=False, encoder_normalize_before=False, eos=2, eval_bleu=False, eval_bleu_args='{}', eval_bleu_detok='space', eval_bleu_detok_args='{}', eval_bleu_print_samples=False, eval_bleu_remove_bpe=None, eval_tokenized_bleu=False, fast_stat_sync=False, find_unused_parameters=False, finetune_from_model=None, fix_batches_to_gpus=False, fixed_validation_seed=None, fp16=True, fp16_init_scale=128, fp16_no_flatten_grads=False, fp16_scale_tolerance=0.0, fp16_scale_window=None, fp32_reduce_scatter=False, gen_subset='test', heartbeat_timeout=-1, ignore_prefix_size=0, keep_best_checkpoints=-1, keep_interval_updates=5, keep_last_epochs=5, label_smoothing=0.1, layernorm_embedding=False, left_pad_source=True, left_pad_target=False, load_alignments=False, load_checkpoint_on_all_dp_ranks=False, localsgd_frequency=3, log_format=None, log_interval=100, lr=[0.0005], lr_scheduler='inverse_sqrt', max_epoch=60, max_source_positions=1024, max_target_positions=1024, max_tokens=4000, max_tokens_valid=4000, max_update=100000, max_valid_steps=None, maximize_best_checkpoint_metric=False, memory_efficient_bf16=False, memory_efficient_fp16=False, min_loss_scale=0.0001, min_params_to_wrap=100000000, model_parallel_size=1, no_cross_attention=False, no_epoch_checkpoints=False, no_last_checkpoints=False, no_progress_bar=False, no_reshard_after_forward=False, no_save=False, no_save_optimizer_state=False, no_scale_embedding=False, no_seed_provided=False, no_token_positional_embeddings=False, nprocs_per_node=1, num_batch_buckets=0, num_shards=1, num_workers=1, offload_activations=False, optimizer='adam', optimizer_overrides='{}', pad=1, patience=-1, pipeline_balance=None, pipeline_checkpoint='never', pipeline_chunks=0, pipeline_decoder_balance=None, pipeline_decoder_devices=None, pipeline_devices=None, pipeline_encoder_balance=None, pipeline_encoder_devices=None, pipeline_model_parallel=False, plasma_path='/tmp/plasma', profile=False, quant_noise_pq=0, quant_noise_pq_block_size=8, quant_noise_scalar=0, quantization_config_path=None, report_accuracy=False, required_batch_size_multiple=8, required_seq_len_multiple=1, reset_dataloader=False, reset_logging=False, reset_lr_scheduler=False, reset_meters=False, reset_optimizer=False, restore_file='checkpoint_last.pt', save_dir='output/checkpoints', save_interval=1, save_interval_updates=500, scoring='bleu', seed=1, sentence_avg=False, shard_id=0, share_all_embeddings=False, share_decoder_input_output_embed=False, simul_type=None, skip_invalid_size_inputs_valid_test=False, slowmo_algorithm='LocalSGD', slowmo_momentum=None, source_lang='zh', stop_min_lr=-1.0, stop_time_hours=0, suppress_crashes=False, target_lang='th', task='translation', tensorboard_logdir=None, threshold_loss_scale=None, tie_adaptive_weights=False, tokenizer=None, tpu=False, train_subset='train', truncate_source=False, unk=3, update_freq=[4], upsample_primary=-1, use_bmuf=False, use_old_adam=False, use_plasma_view=False, user_dir=None, valid_subset='valid', validate_after_updates=0, validate_interval=1, validate_interval_updates=0, wandb_project=None, warmup_init_lr=1e-07, warmup_updates=4000, weight_decay=0.0, write_checkpoints_asynchronously=False, zero_sharding='none'), 'task': {'_name': 'translation', 'data': 'output/data-bin', 'source_lang': 'zh', 'target_lang': 'th', 'load_alignments': False, 'left_pad_source': True, 'left_pad_target': False, 'max_source_positions': 1024, 'max_target_positions': 1024, 'upsample_primary': -1, 'truncate_source': False, 'num_batch_buckets': 0, 'train_subset': 'train', 'dataset_impl': None, 'required_seq_len_multiple': 1, 'eval_bleu': False, 'eval_bleu_args': '{}', 'eval_bleu_detok': 'space', 'eval_bleu_detok_args': '{}', 'eval_tokenized_bleu': False, 'eval_bleu_remove_bpe': None, 'eval_bleu_print_samples': False}, 'criterion': {'_name': 'label_smoothed_cross_entropy', 'label_smoothing': 0.1, 'report_accuracy': False, 'ignore_prefix_size': 0, 'sentence_avg': False}, 'optimizer': {'_name': 'adam', 'adam_betas': '(0.9, 0.98)', 'adam_eps': 1e-08, 'weight_decay': 0.0, 'use_old_adam': False, 'tpu': False, 'lr': [0.0005]}, 'lr_scheduler': {'_name': 'inverse_sqrt', 'warmup_updates': 4000, 'warmup_init_lr': 1e-07, 'lr': [0.0005]}, 'scoring': {'_name': 'bleu', 'pad': 1, 'eos': 2, 'unk': 3}, 'bpe': None, 'tokenizer': None, 'simul_type': None}\n",
            "2022-02-16 04:20:42 | INFO | fairseq.tasks.translation | [zh] dictionary: 40968 types\n",
            "2022-02-16 04:20:42 | INFO | fairseq.tasks.translation | [th] dictionary: 29400 types\n",
            "2022-02-16 04:20:43 | INFO | fairseq_cli.train | TransformerModel(\n",
            "  (encoder): TransformerEncoder(\n",
            "    (dropout_module): FairseqDropout()\n",
            "    (embed_tokens): Embedding(40968, 512, padding_idx=1)\n",
            "    (embed_positions): SinusoidalPositionalEmbedding()\n",
            "    (layers): ModuleList(\n",
            "      (0): TransformerEncoderLayer(\n",
            "        (self_attn): MultiheadAttention(\n",
            "          (dropout_module): FairseqDropout()\n",
            "          (k_proj): Linear(in_features=512, out_features=512, bias=True)\n",
            "          (v_proj): Linear(in_features=512, out_features=512, bias=True)\n",
            "          (q_proj): Linear(in_features=512, out_features=512, bias=True)\n",
            "          (out_proj): Linear(in_features=512, out_features=512, bias=True)\n",
            "        )\n",
            "        (self_attn_layer_norm): LayerNorm((512,), eps=1e-05, elementwise_affine=True)\n",
            "        (dropout_module): FairseqDropout()\n",
            "        (activation_dropout_module): FairseqDropout()\n",
            "        (fc1): Linear(in_features=512, out_features=2048, bias=True)\n",
            "        (fc2): Linear(in_features=2048, out_features=512, bias=True)\n",
            "        (final_layer_norm): LayerNorm((512,), eps=1e-05, elementwise_affine=True)\n",
            "      )\n",
            "      (1): TransformerEncoderLayer(\n",
            "        (self_attn): MultiheadAttention(\n",
            "          (dropout_module): FairseqDropout()\n",
            "          (k_proj): Linear(in_features=512, out_features=512, bias=True)\n",
            "          (v_proj): Linear(in_features=512, out_features=512, bias=True)\n",
            "          (q_proj): Linear(in_features=512, out_features=512, bias=True)\n",
            "          (out_proj): Linear(in_features=512, out_features=512, bias=True)\n",
            "        )\n",
            "        (self_attn_layer_norm): LayerNorm((512,), eps=1e-05, elementwise_affine=True)\n",
            "        (dropout_module): FairseqDropout()\n",
            "        (activation_dropout_module): FairseqDropout()\n",
            "        (fc1): Linear(in_features=512, out_features=2048, bias=True)\n",
            "        (fc2): Linear(in_features=2048, out_features=512, bias=True)\n",
            "        (final_layer_norm): LayerNorm((512,), eps=1e-05, elementwise_affine=True)\n",
            "      )\n",
            "      (2): TransformerEncoderLayer(\n",
            "        (self_attn): MultiheadAttention(\n",
            "          (dropout_module): FairseqDropout()\n",
            "          (k_proj): Linear(in_features=512, out_features=512, bias=True)\n",
            "          (v_proj): Linear(in_features=512, out_features=512, bias=True)\n",
            "          (q_proj): Linear(in_features=512, out_features=512, bias=True)\n",
            "          (out_proj): Linear(in_features=512, out_features=512, bias=True)\n",
            "        )\n",
            "        (self_attn_layer_norm): LayerNorm((512,), eps=1e-05, elementwise_affine=True)\n",
            "        (dropout_module): FairseqDropout()\n",
            "        (activation_dropout_module): FairseqDropout()\n",
            "        (fc1): Linear(in_features=512, out_features=2048, bias=True)\n",
            "        (fc2): Linear(in_features=2048, out_features=512, bias=True)\n",
            "        (final_layer_norm): LayerNorm((512,), eps=1e-05, elementwise_affine=True)\n",
            "      )\n",
            "      (3): TransformerEncoderLayer(\n",
            "        (self_attn): MultiheadAttention(\n",
            "          (dropout_module): FairseqDropout()\n",
            "          (k_proj): Linear(in_features=512, out_features=512, bias=True)\n",
            "          (v_proj): Linear(in_features=512, out_features=512, bias=True)\n",
            "          (q_proj): Linear(in_features=512, out_features=512, bias=True)\n",
            "          (out_proj): Linear(in_features=512, out_features=512, bias=True)\n",
            "        )\n",
            "        (self_attn_layer_norm): LayerNorm((512,), eps=1e-05, elementwise_affine=True)\n",
            "        (dropout_module): FairseqDropout()\n",
            "        (activation_dropout_module): FairseqDropout()\n",
            "        (fc1): Linear(in_features=512, out_features=2048, bias=True)\n",
            "        (fc2): Linear(in_features=2048, out_features=512, bias=True)\n",
            "        (final_layer_norm): LayerNorm((512,), eps=1e-05, elementwise_affine=True)\n",
            "      )\n",
            "      (4): TransformerEncoderLayer(\n",
            "        (self_attn): MultiheadAttention(\n",
            "          (dropout_module): FairseqDropout()\n",
            "          (k_proj): Linear(in_features=512, out_features=512, bias=True)\n",
            "          (v_proj): Linear(in_features=512, out_features=512, bias=True)\n",
            "          (q_proj): Linear(in_features=512, out_features=512, bias=True)\n",
            "          (out_proj): Linear(in_features=512, out_features=512, bias=True)\n",
            "        )\n",
            "        (self_attn_layer_norm): LayerNorm((512,), eps=1e-05, elementwise_affine=True)\n",
            "        (dropout_module): FairseqDropout()\n",
            "        (activation_dropout_module): FairseqDropout()\n",
            "        (fc1): Linear(in_features=512, out_features=2048, bias=True)\n",
            "        (fc2): Linear(in_features=2048, out_features=512, bias=True)\n",
            "        (final_layer_norm): LayerNorm((512,), eps=1e-05, elementwise_affine=True)\n",
            "      )\n",
            "      (5): TransformerEncoderLayer(\n",
            "        (self_attn): MultiheadAttention(\n",
            "          (dropout_module): FairseqDropout()\n",
            "          (k_proj): Linear(in_features=512, out_features=512, bias=True)\n",
            "          (v_proj): Linear(in_features=512, out_features=512, bias=True)\n",
            "          (q_proj): Linear(in_features=512, out_features=512, bias=True)\n",
            "          (out_proj): Linear(in_features=512, out_features=512, bias=True)\n",
            "        )\n",
            "        (self_attn_layer_norm): LayerNorm((512,), eps=1e-05, elementwise_affine=True)\n",
            "        (dropout_module): FairseqDropout()\n",
            "        (activation_dropout_module): FairseqDropout()\n",
            "        (fc1): Linear(in_features=512, out_features=2048, bias=True)\n",
            "        (fc2): Linear(in_features=2048, out_features=512, bias=True)\n",
            "        (final_layer_norm): LayerNorm((512,), eps=1e-05, elementwise_affine=True)\n",
            "      )\n",
            "    )\n",
            "  )\n",
            "  (decoder): TransformerDecoder(\n",
            "    (dropout_module): FairseqDropout()\n",
            "    (embed_tokens): Embedding(29400, 512, padding_idx=1)\n",
            "    (embed_positions): SinusoidalPositionalEmbedding()\n",
            "    (layers): ModuleList(\n",
            "      (0): TransformerDecoderLayer(\n",
            "        (dropout_module): FairseqDropout()\n",
            "        (self_attn): MultiheadAttention(\n",
            "          (dropout_module): FairseqDropout()\n",
            "          (k_proj): Linear(in_features=512, out_features=512, bias=True)\n",
            "          (v_proj): Linear(in_features=512, out_features=512, bias=True)\n",
            "          (q_proj): Linear(in_features=512, out_features=512, bias=True)\n",
            "          (out_proj): Linear(in_features=512, out_features=512, bias=True)\n",
            "        )\n",
            "        (activation_dropout_module): FairseqDropout()\n",
            "        (self_attn_layer_norm): LayerNorm((512,), eps=1e-05, elementwise_affine=True)\n",
            "        (encoder_attn): MultiheadAttention(\n",
            "          (dropout_module): FairseqDropout()\n",
            "          (k_proj): Linear(in_features=512, out_features=512, bias=True)\n",
            "          (v_proj): Linear(in_features=512, out_features=512, bias=True)\n",
            "          (q_proj): Linear(in_features=512, out_features=512, bias=True)\n",
            "          (out_proj): Linear(in_features=512, out_features=512, bias=True)\n",
            "        )\n",
            "        (encoder_attn_layer_norm): LayerNorm((512,), eps=1e-05, elementwise_affine=True)\n",
            "        (fc1): Linear(in_features=512, out_features=2048, bias=True)\n",
            "        (fc2): Linear(in_features=2048, out_features=512, bias=True)\n",
            "        (final_layer_norm): LayerNorm((512,), eps=1e-05, elementwise_affine=True)\n",
            "      )\n",
            "      (1): TransformerDecoderLayer(\n",
            "        (dropout_module): FairseqDropout()\n",
            "        (self_attn): MultiheadAttention(\n",
            "          (dropout_module): FairseqDropout()\n",
            "          (k_proj): Linear(in_features=512, out_features=512, bias=True)\n",
            "          (v_proj): Linear(in_features=512, out_features=512, bias=True)\n",
            "          (q_proj): Linear(in_features=512, out_features=512, bias=True)\n",
            "          (out_proj): Linear(in_features=512, out_features=512, bias=True)\n",
            "        )\n",
            "        (activation_dropout_module): FairseqDropout()\n",
            "        (self_attn_layer_norm): LayerNorm((512,), eps=1e-05, elementwise_affine=True)\n",
            "        (encoder_attn): MultiheadAttention(\n",
            "          (dropout_module): FairseqDropout()\n",
            "          (k_proj): Linear(in_features=512, out_features=512, bias=True)\n",
            "          (v_proj): Linear(in_features=512, out_features=512, bias=True)\n",
            "          (q_proj): Linear(in_features=512, out_features=512, bias=True)\n",
            "          (out_proj): Linear(in_features=512, out_features=512, bias=True)\n",
            "        )\n",
            "        (encoder_attn_layer_norm): LayerNorm((512,), eps=1e-05, elementwise_affine=True)\n",
            "        (fc1): Linear(in_features=512, out_features=2048, bias=True)\n",
            "        (fc2): Linear(in_features=2048, out_features=512, bias=True)\n",
            "        (final_layer_norm): LayerNorm((512,), eps=1e-05, elementwise_affine=True)\n",
            "      )\n",
            "      (2): TransformerDecoderLayer(\n",
            "        (dropout_module): FairseqDropout()\n",
            "        (self_attn): MultiheadAttention(\n",
            "          (dropout_module): FairseqDropout()\n",
            "          (k_proj): Linear(in_features=512, out_features=512, bias=True)\n",
            "          (v_proj): Linear(in_features=512, out_features=512, bias=True)\n",
            "          (q_proj): Linear(in_features=512, out_features=512, bias=True)\n",
            "          (out_proj): Linear(in_features=512, out_features=512, bias=True)\n",
            "        )\n",
            "        (activation_dropout_module): FairseqDropout()\n",
            "        (self_attn_layer_norm): LayerNorm((512,), eps=1e-05, elementwise_affine=True)\n",
            "        (encoder_attn): MultiheadAttention(\n",
            "          (dropout_module): FairseqDropout()\n",
            "          (k_proj): Linear(in_features=512, out_features=512, bias=True)\n",
            "          (v_proj): Linear(in_features=512, out_features=512, bias=True)\n",
            "          (q_proj): Linear(in_features=512, out_features=512, bias=True)\n",
            "          (out_proj): Linear(in_features=512, out_features=512, bias=True)\n",
            "        )\n",
            "        (encoder_attn_layer_norm): LayerNorm((512,), eps=1e-05, elementwise_affine=True)\n",
            "        (fc1): Linear(in_features=512, out_features=2048, bias=True)\n",
            "        (fc2): Linear(in_features=2048, out_features=512, bias=True)\n",
            "        (final_layer_norm): LayerNorm((512,), eps=1e-05, elementwise_affine=True)\n",
            "      )\n",
            "      (3): TransformerDecoderLayer(\n",
            "        (dropout_module): FairseqDropout()\n",
            "        (self_attn): MultiheadAttention(\n",
            "          (dropout_module): FairseqDropout()\n",
            "          (k_proj): Linear(in_features=512, out_features=512, bias=True)\n",
            "          (v_proj): Linear(in_features=512, out_features=512, bias=True)\n",
            "          (q_proj): Linear(in_features=512, out_features=512, bias=True)\n",
            "          (out_proj): Linear(in_features=512, out_features=512, bias=True)\n",
            "        )\n",
            "        (activation_dropout_module): FairseqDropout()\n",
            "        (self_attn_layer_norm): LayerNorm((512,), eps=1e-05, elementwise_affine=True)\n",
            "        (encoder_attn): MultiheadAttention(\n",
            "          (dropout_module): FairseqDropout()\n",
            "          (k_proj): Linear(in_features=512, out_features=512, bias=True)\n",
            "          (v_proj): Linear(in_features=512, out_features=512, bias=True)\n",
            "          (q_proj): Linear(in_features=512, out_features=512, bias=True)\n",
            "          (out_proj): Linear(in_features=512, out_features=512, bias=True)\n",
            "        )\n",
            "        (encoder_attn_layer_norm): LayerNorm((512,), eps=1e-05, elementwise_affine=True)\n",
            "        (fc1): Linear(in_features=512, out_features=2048, bias=True)\n",
            "        (fc2): Linear(in_features=2048, out_features=512, bias=True)\n",
            "        (final_layer_norm): LayerNorm((512,), eps=1e-05, elementwise_affine=True)\n",
            "      )\n",
            "      (4): TransformerDecoderLayer(\n",
            "        (dropout_module): FairseqDropout()\n",
            "        (self_attn): MultiheadAttention(\n",
            "          (dropout_module): FairseqDropout()\n",
            "          (k_proj): Linear(in_features=512, out_features=512, bias=True)\n",
            "          (v_proj): Linear(in_features=512, out_features=512, bias=True)\n",
            "          (q_proj): Linear(in_features=512, out_features=512, bias=True)\n",
            "          (out_proj): Linear(in_features=512, out_features=512, bias=True)\n",
            "        )\n",
            "        (activation_dropout_module): FairseqDropout()\n",
            "        (self_attn_layer_norm): LayerNorm((512,), eps=1e-05, elementwise_affine=True)\n",
            "        (encoder_attn): MultiheadAttention(\n",
            "          (dropout_module): FairseqDropout()\n",
            "          (k_proj): Linear(in_features=512, out_features=512, bias=True)\n",
            "          (v_proj): Linear(in_features=512, out_features=512, bias=True)\n",
            "          (q_proj): Linear(in_features=512, out_features=512, bias=True)\n",
            "          (out_proj): Linear(in_features=512, out_features=512, bias=True)\n",
            "        )\n",
            "        (encoder_attn_layer_norm): LayerNorm((512,), eps=1e-05, elementwise_affine=True)\n",
            "        (fc1): Linear(in_features=512, out_features=2048, bias=True)\n",
            "        (fc2): Linear(in_features=2048, out_features=512, bias=True)\n",
            "        (final_layer_norm): LayerNorm((512,), eps=1e-05, elementwise_affine=True)\n",
            "      )\n",
            "      (5): TransformerDecoderLayer(\n",
            "        (dropout_module): FairseqDropout()\n",
            "        (self_attn): MultiheadAttention(\n",
            "          (dropout_module): FairseqDropout()\n",
            "          (k_proj): Linear(in_features=512, out_features=512, bias=True)\n",
            "          (v_proj): Linear(in_features=512, out_features=512, bias=True)\n",
            "          (q_proj): Linear(in_features=512, out_features=512, bias=True)\n",
            "          (out_proj): Linear(in_features=512, out_features=512, bias=True)\n",
            "        )\n",
            "        (activation_dropout_module): FairseqDropout()\n",
            "        (self_attn_layer_norm): LayerNorm((512,), eps=1e-05, elementwise_affine=True)\n",
            "        (encoder_attn): MultiheadAttention(\n",
            "          (dropout_module): FairseqDropout()\n",
            "          (k_proj): Linear(in_features=512, out_features=512, bias=True)\n",
            "          (v_proj): Linear(in_features=512, out_features=512, bias=True)\n",
            "          (q_proj): Linear(in_features=512, out_features=512, bias=True)\n",
            "          (out_proj): Linear(in_features=512, out_features=512, bias=True)\n",
            "        )\n",
            "        (encoder_attn_layer_norm): LayerNorm((512,), eps=1e-05, elementwise_affine=True)\n",
            "        (fc1): Linear(in_features=512, out_features=2048, bias=True)\n",
            "        (fc2): Linear(in_features=2048, out_features=512, bias=True)\n",
            "        (final_layer_norm): LayerNorm((512,), eps=1e-05, elementwise_affine=True)\n",
            "      )\n",
            "    )\n",
            "    (output_projection): Linear(in_features=512, out_features=29400, bias=False)\n",
            "  )\n",
            ")\n",
            "2022-02-16 04:20:43 | INFO | fairseq_cli.train | task: TranslationTask\n",
            "2022-02-16 04:20:43 | INFO | fairseq_cli.train | model: TransformerModel\n",
            "2022-02-16 04:20:43 | INFO | fairseq_cli.train | criterion: LabelSmoothedCrossEntropyCriterion\n",
            "2022-02-16 04:20:43 | INFO | fairseq_cli.train | num. shared model params: 95,219,712 (num. trained: 95,219,712)\n",
            "2022-02-16 04:20:43 | INFO | fairseq_cli.train | num. expert model params: 0 (num. trained: 0)\n",
            "2022-02-16 04:20:43 | INFO | fairseq.data.data_utils | loaded 2,000 examples from: output/data-bin/valid.zh-th.zh\n",
            "2022-02-16 04:20:43 | INFO | fairseq.data.data_utils | loaded 2,000 examples from: output/data-bin/valid.zh-th.th\n",
            "2022-02-16 04:20:43 | INFO | fairseq.tasks.translation | output/data-bin valid zh-th 2000 examples\n",
            "2022-02-16 04:20:52 | INFO | fairseq.utils | ***********************CUDA enviroments for all 1 workers***********************\n",
            "2022-02-16 04:20:52 | INFO | fairseq.utils | rank   0: capabilities =  3.7  ; total memory = 11.173 GB ; name = Tesla K80                               \n",
            "2022-02-16 04:20:52 | INFO | fairseq.utils | ***********************CUDA enviroments for all 1 workers***********************\n",
            "2022-02-16 04:20:52 | INFO | fairseq_cli.train | training on 1 devices (GPUs/TPUs)\n",
            "2022-02-16 04:20:52 | INFO | fairseq_cli.train | max tokens per device = 4000 and max sentences per device = None\n",
            "2022-02-16 04:20:52 | INFO | fairseq.trainer | Preparing to load checkpoint output/checkpoints/checkpoint_last.pt\n",
            "2022-02-16 04:20:52 | INFO | fairseq.trainer | No existing checkpoint found output/checkpoints/checkpoint_last.pt\n",
            "2022-02-16 04:20:52 | INFO | fairseq.trainer | loading train data for epoch 1\n",
            "2022-02-16 04:20:52 | INFO | fairseq.data.data_utils | loaded 440,000 examples from: output/data-bin/train.zh-th.zh\n",
            "2022-02-16 04:20:52 | INFO | fairseq.data.data_utils | loaded 440,000 examples from: output/data-bin/train.zh-th.th\n",
            "2022-02-16 04:20:52 | INFO | fairseq.tasks.translation | output/data-bin train zh-th 440000 examples\n",
            "2022-02-16 04:20:52 | INFO | fairseq.trainer | NOTE: your device does NOT support faster training with --fp16, please switch to FP32 which is likely to be faster\n",
            "epoch 001:   0% 0/317 [00:00<?, ?it/s]2022-02-16 04:20:52 | INFO | fairseq.trainer | begin training epoch 1\n",
            "2022-02-16 04:20:52 | INFO | fairseq_cli.train | Start iterating over samples\n",
            "2022-02-16 04:21:12 | INFO | fairseq.trainer | NOTE: gradient overflow detected, ignoring gradient, setting loss scale to: 64.0\n",
            "epoch 001:   0% 1/317 [00:19<1:44:52, 19.91s/it]2022-02-16 04:21:29 | INFO | fairseq.trainer | NOTE: gradient overflow detected, ignoring gradient, setting loss scale to: 32.0\n",
            "epoch 001:   1% 2/317 [00:37<1:36:31, 18.39s/it]2022-02-16 04:21:48 | INFO | fairseq.trainer | NOTE: gradient overflow detected, ignoring gradient, setting loss scale to: 16.0\n",
            "epoch 001:   1% 3/317 [00:56<1:37:45, 18.68s/it]2022-02-16 04:22:12 | INFO | fairseq.trainer | NOTE: gradient overflow detected, ignoring gradient, setting loss scale to: 8.0\n",
            "epoch 001:   1% 4/317 [01:20<1:48:27, 20.79s/it]"
          ]
        }
      ]
    },
    {
      "cell_type": "code",
      "source": [
        ""
      ],
      "metadata": {
        "id": "z4OloiQXwoku"
      },
      "execution_count": null,
      "outputs": []
    }
  ]
}